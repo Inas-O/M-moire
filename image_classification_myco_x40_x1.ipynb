{
  "cells": [
    {
      "cell_type": "markdown",
      "source": [
        "**Installation des packages**"
      ],
      "metadata": {
        "id": "jgG5aVBWADLP"
      }
    },
    {
      "cell_type": "code",
      "execution_count": null,
      "metadata": {
        "id": "_0As3B7XIuUr"
      },
      "outputs": [],
      "source": [
        "import numpy as np\n",
        "import pandas as pd\n",
        "import os\n",
        "from sklearn.metrics import classification_report\n",
        "from sklearn.utils import shuffle\n",
        "import matplotlib.pyplot as plt\n",
        "import cv2\n",
        "import tensorflow as tf\n",
        "from tensorflow.keras.applications import InceptionV3\n",
        "from tensorflow.keras.applications.inception_v3 import preprocess_input, decode_predictions\n",
        "from tensorflow.keras.preprocessing import image\n",
        "from tqdm import tqdm\n",
        "import os\n",
        "from io import BytesIO\n",
        "from PIL import Image\n",
        "from tensorflow.keras.preprocessing.image import ImageDataGenerator\n",
        "from tensorflow.keras.layers import Dense, GlobalAveragePooling2D\n",
        "from tensorflow.keras.models import Model\n",
        "from tensorflow.keras.optimizers import Adam\n",
        "import keras"
      ]
    },
    {
      "cell_type": "markdown",
      "source": [
        "**Connection à Google drive**"
      ],
      "metadata": {
        "id": "3A8bJ7CiAPKL"
      }
    },
    {
      "cell_type": "code",
      "execution_count": null,
      "metadata": {
        "colab": {
          "base_uri": "https://localhost:8080/"
        },
        "id": "DdvFRZGCNSTv",
        "outputId": "05a20a3a-c4f7-4ded-870d-ee6ca8b7dd39"
      },
      "outputs": [
        {
          "output_type": "stream",
          "name": "stdout",
          "text": [
            "Mounted at /content/drive\n"
          ]
        }
      ],
      "source": [
        "from google.colab import drive\n",
        "drive.mount('/content/drive')"
      ]
    },
    {
      "cell_type": "markdown",
      "source": [
        "**Copie de la base de donnée dans l'environnement Google Colab**"
      ],
      "metadata": {
        "id": "RwuJ54ZBAWzt"
      }
    },
    {
      "cell_type": "code",
      "execution_count": null,
      "metadata": {
        "colab": {
          "base_uri": "https://localhost:8080/"
        },
        "id": "MyBLXW3OKpwz",
        "outputId": "f02bef63-ee3b-4c14-af7a-2a7715c93751"
      },
      "outputs": [
        {
          "output_type": "stream",
          "name": "stdout",
          "text": [
            "Folder '/content/drive/MyDrive/dataset_myco_neg_x40_x1' successfully copied to '/content/dataset_myco_x40_x1'.\n"
          ]
        }
      ],
      "source": [
        "import shutil\n",
        "\n",
        "def copy_folder(source_folder, destination_folder):\n",
        "    try:\n",
        "        shutil.copytree(source_folder, destination_folder)\n",
        "        print(f\"Folder '{source_folder}' successfully copied to '{destination_folder}'.\")\n",
        "    except Exception as e:\n",
        "        print(f\"An error occurred: {e}\")\n",
        "\n",
        "source_folder_path = '/content/drive/MyDrive/dataset_myco_neg_x40_x1'\n",
        "destination_folder_path = '/content/dataset_myco_x40_x1'\n",
        "\n",
        "copy_folder(source_folder_path, destination_folder_path)\n"
      ]
    },
    {
      "cell_type": "markdown",
      "source": [
        "**Extraction des images des albums pour les mettre dans leur classe respective**"
      ],
      "metadata": {
        "id": "dQlsQX50AfOb"
      }
    },
    {
      "cell_type": "markdown",
      "source": [
        "Pour le Candida albicans"
      ],
      "metadata": {
        "id": "5vN9GYBsBj6R"
      }
    },
    {
      "cell_type": "code",
      "source": [
        "import os\n",
        "import shutil\n",
        "\n",
        "source_folder = \"/content/dataset_myco_x40_x1/C.albicans\"\n",
        "\n",
        "destination_folder = \"/content/dataset_myco_x40_x1_1/C.albicans\"\n",
        "\n",
        "os.makedirs(destination_folder, exist_ok=True)\n",
        "\n",
        "for root, _, files in os.walk(source_folder):\n",
        "    for file_name in files:\n",
        "        if file_name.endswith(('.jpg', '.jpeg', '.png', '.gif')):\n",
        "            source_path = os.path.join(root, file_name)\n",
        "            destination_path = os.path.join(destination_folder, file_name)\n",
        "            shutil.copy2(source_path, destination_path)\n",
        "\n",
        "print(\"Images extracted from source subfolders to destination folder.\")"
      ],
      "metadata": {
        "colab": {
          "base_uri": "https://localhost:8080/"
        },
        "id": "eh1Wz_AIZl10",
        "outputId": "a3cc8d68-a820-46fb-e36d-93b34d9e5378"
      },
      "execution_count": null,
      "outputs": [
        {
          "output_type": "stream",
          "name": "stdout",
          "text": [
            "Images extracted from source subfolders to destination folder.\n"
          ]
        }
      ]
    },
    {
      "cell_type": "markdown",
      "source": [
        "Pour le Candida glabrata"
      ],
      "metadata": {
        "id": "NAgMGBUHBoQj"
      }
    },
    {
      "cell_type": "code",
      "source": [
        "import os\n",
        "import shutil\n",
        "\n",
        "source_folder = \"/content/dataset_myco_x40_x1/C.glabrata\"\n",
        "\n",
        "destination_folder = \"/content/dataset_myco_x40_x1_1/C.glabrata\"\n",
        "\n",
        "os.makedirs(destination_folder, exist_ok=True)\n",
        "\n",
        "for root, _, files in os.walk(source_folder):\n",
        "    for file_name in files:\n",
        "        if file_name.endswith(('.jpg', '.jpeg', '.png', '.gif')):\n",
        "            source_path = os.path.join(root, file_name)\n",
        "            destination_path = os.path.join(destination_folder, file_name)\n",
        "            shutil.copy2(source_path, destination_path)\n",
        "\n",
        "print(\"Images extracted from source subfolders to destination folder.\")"
      ],
      "metadata": {
        "colab": {
          "base_uri": "https://localhost:8080/"
        },
        "id": "5QFsdG7hjp_W",
        "outputId": "94790e14-e453-4a9e-9971-4020143cb36a"
      },
      "execution_count": null,
      "outputs": [
        {
          "output_type": "stream",
          "name": "stdout",
          "text": [
            "Images extracted from source subfolders to destination folder.\n"
          ]
        }
      ]
    },
    {
      "cell_type": "markdown",
      "source": [
        "Pour le Candida parapsilosis"
      ],
      "metadata": {
        "id": "Kp6JG6RlBufv"
      }
    },
    {
      "cell_type": "code",
      "source": [
        "import os\n",
        "import shutil\n",
        "\n",
        "source_folder = \"/content/dataset_myco_x40_x1/C.parapsilosis\"\n",
        "\n",
        "destination_folder = \"/content/dataset_myco_x40_x1_1/C.parapsilosis\"\n",
        "\n",
        "os.makedirs(destination_folder, exist_ok=True)\n",
        "\n",
        "for root, _, files in os.walk(source_folder):\n",
        "    for file_name in files:\n",
        "        if file_name.endswith(('.jpg', '.jpeg', '.png', '.gif')):\n",
        "            source_path = os.path.join(root, file_name)\n",
        "            destination_path = os.path.join(destination_folder, file_name)\n",
        "            shutil.copy2(source_path, destination_path)\n",
        "\n",
        "print(\"Images extracted from source subfolders to destination folder.\")"
      ],
      "metadata": {
        "colab": {
          "base_uri": "https://localhost:8080/"
        },
        "id": "wnywVIOBj4MH",
        "outputId": "9222f513-f7e9-40fe-9d22-ea737405e33f"
      },
      "execution_count": null,
      "outputs": [
        {
          "output_type": "stream",
          "name": "stdout",
          "text": [
            "Images extracted from source subfolders to destination folder.\n"
          ]
        }
      ]
    },
    {
      "cell_type": "markdown",
      "source": [
        "Pour les negatifs"
      ],
      "metadata": {
        "id": "i7Z5h3QdCDSX"
      }
    },
    {
      "cell_type": "code",
      "source": [
        "import os\n",
        "import shutil\n",
        "\n",
        "source_folder = \"/content/dataset_myco_x40_x1/Negatif\"\n",
        "\n",
        "destination_folder = \"/content/dataset_myco_x40_x1_1/Negatif\"\n",
        "\n",
        "os.makedirs(destination_folder, exist_ok=True)\n",
        "\n",
        "for root, _, files in os.walk(source_folder):\n",
        "    for file_name in files:\n",
        "        if file_name.endswith(('.jpg', '.jpeg', '.png', '.gif')):\n",
        "            source_path = os.path.join(root, file_name)\n",
        "            destination_path = os.path.join(destination_folder, file_name)\n",
        "            shutil.copy2(source_path, destination_path)\n",
        "\n",
        "print(\"Images extracted from source subfolders to destination folder.\")"
      ],
      "metadata": {
        "id": "-fQQL1LSA-8l"
      },
      "execution_count": null,
      "outputs": []
    },
    {
      "cell_type": "markdown",
      "source": [
        "**Split**"
      ],
      "metadata": {
        "id": "vUuBDs11CuDV"
      }
    },
    {
      "cell_type": "code",
      "source": [
        "!pip install split-folders\n",
        "import splitfolders\n",
        "input_folder = \"/content/dataset_myco_x40_x1_1\"\n",
        "output_folder = \"/content/dataset_myco_neg_output1\"\n",
        "train_folder = os.path.join(output_folder, \"train\")\n",
        "val_folder = os.path.join(output_folder, \"val\")\n",
        "\n",
        "splitfolders.ratio(input_folder, output=output_folder, seed=42, ratio=(0.8, 0.2))"
      ],
      "metadata": {
        "colab": {
          "base_uri": "https://localhost:8080/"
        },
        "id": "7E5Z0w_nZsdQ",
        "outputId": "b8e42eb4-eb81-485b-f082-51ae27006744"
      },
      "execution_count": null,
      "outputs": [
        {
          "output_type": "stream",
          "name": "stdout",
          "text": [
            "Collecting split-folders\n",
            "  Downloading split_folders-0.5.1-py3-none-any.whl (8.4 kB)\n",
            "Installing collected packages: split-folders\n",
            "Successfully installed split-folders-0.5.1\n"
          ]
        },
        {
          "output_type": "stream",
          "name": "stderr",
          "text": [
            "Copying files: 247 files [00:00, 445.14 files/s]\n"
          ]
        }
      ]
    },
    {
      "cell_type": "markdown",
      "source": [
        "**Suppression des dossiers vide si besoin**"
      ],
      "metadata": {
        "id": "JaKRp744C7yb"
      }
    },
    {
      "cell_type": "code",
      "execution_count": null,
      "metadata": {
        "id": "X2r3z3SlwsEm"
      },
      "outputs": [],
      "source": [
        "def delete_empty_folders(directory):\n",
        "    for root, dirs, files in os.walk(directory, topdown=False):\n",
        "        for name in dirs:\n",
        "            folder_path = os.path.join(root, name)\n",
        "            if not os.listdir(folder_path):\n",
        "                os.rmdir(folder_path)\n",
        "                print(f\"Deleted empty folder: {folder_path}\")\n",
        "\n",
        "# supprime sur le train:\n",
        "directory_to_check = '/content/dataset_myco_output1/train'\n",
        "delete_empty_folders(directory_to_check)"
      ]
    },
    {
      "cell_type": "code",
      "execution_count": null,
      "metadata": {
        "id": "gny9zpaYxBfx"
      },
      "outputs": [],
      "source": [
        "#Supprime sur la validation\n",
        "directory_path = '/content/dataset_myco_output1/val'\n",
        "\n",
        "delete_empty_folders(directory_path)"
      ]
    },
    {
      "cell_type": "markdown",
      "source": [
        "**Compte le nombre d'images par classe pour l'entraînement et la validation**"
      ],
      "metadata": {
        "id": "-HdkNCxeDWYi"
      }
    },
    {
      "cell_type": "code",
      "execution_count": null,
      "metadata": {
        "colab": {
          "base_uri": "https://localhost:8080/"
        },
        "id": "6Xn2YAsAAr34",
        "outputId": "47aa1f2a-bbae-4295-c9a2-9bdb8874daeb"
      },
      "outputs": [
        {
          "output_type": "stream",
          "name": "stdout",
          "text": [
            "Number of files in the folder: 80\n"
          ]
        }
      ],
      "source": [
        "#####Pour compter les photos dans chaque train et val\n",
        "def count_files(folder_path):\n",
        "    count = 0\n",
        "    for filename in os.listdir(folder_path):\n",
        "        if os.path.isfile(os.path.join(folder_path, filename)):\n",
        "            count += 1\n",
        "    return count\n",
        "\n",
        "#####Pour train cal\n",
        "folder_path = \"/content/dataset_myco_neg_output1/train/C.albicans\"\n",
        "num_files = count_files(folder_path)\n",
        "print(\"Number of files in the folder:\", num_files)"
      ]
    },
    {
      "cell_type": "code",
      "execution_count": null,
      "metadata": {
        "colab": {
          "base_uri": "https://localhost:8080/"
        },
        "id": "NeBiq8ZhBzke",
        "outputId": "9ac55aa8-d891-4599-a5b4-edc146a5aeb1"
      },
      "outputs": [
        {
          "output_type": "stream",
          "name": "stdout",
          "text": [
            "Number of files in the folder: 75\n"
          ]
        }
      ],
      "source": [
        "#####Pour train gla\n",
        "folder_path = \"/content/dataset_myco_neg_output1/train/C.glabrata\"\n",
        "num_files = count_files(folder_path)\n",
        "print(\"Number of files in the folder:\", num_files)"
      ]
    },
    {
      "cell_type": "code",
      "execution_count": null,
      "metadata": {
        "colab": {
          "base_uri": "https://localhost:8080/"
        },
        "id": "PZvcMYHuzWaW",
        "outputId": "daaa4d28-7dd3-4435-fd42-ce2a63b049b8"
      },
      "outputs": [
        {
          "output_type": "stream",
          "name": "stdout",
          "text": [
            "Number of files in the folder: 42\n"
          ]
        }
      ],
      "source": [
        "#####Pour train parapsi\n",
        "folder_path = \"/content/dataset_myco_neg_output1/train/C.parapsilosis\"\n",
        "num_files = count_files(folder_path)\n",
        "print(\"Number of files in the folder:\", num_files)"
      ]
    },
    {
      "cell_type": "code",
      "execution_count": null,
      "metadata": {
        "colab": {
          "base_uri": "https://localhost:8080/"
        },
        "id": "-AwDDAB1CO_f",
        "outputId": "63c37beb-cbc3-4e4a-b77d-2c5d99bd050d"
      },
      "outputs": [
        {
          "output_type": "stream",
          "name": "stdout",
          "text": [
            "Number of files in the folder: 20\n"
          ]
        }
      ],
      "source": [
        "#####Pour val cal\n",
        "folder_path = \"/content/dataset_myco_neg_output1/val/C.albicans\"\n",
        "num_files = count_files(folder_path)\n",
        "print(\"Number of files in the folder:\", num_files)"
      ]
    },
    {
      "cell_type": "code",
      "execution_count": null,
      "metadata": {
        "colab": {
          "base_uri": "https://localhost:8080/"
        },
        "id": "hsSjkfMZCTjS",
        "outputId": "d24d9ef3-b28b-4f30-bf27-abb9ba22645f"
      },
      "outputs": [
        {
          "output_type": "stream",
          "name": "stdout",
          "text": [
            "Number of files in the folder: 19\n"
          ]
        }
      ],
      "source": [
        "#####Pour val gla\n",
        "folder_path = \"/content/dataset_myco_neg_output1/val/C.glabrata\"\n",
        "num_files = count_files(folder_path)\n",
        "print(\"Number of files in the folder:\", num_files)"
      ]
    },
    {
      "cell_type": "code",
      "execution_count": null,
      "metadata": {
        "colab": {
          "base_uri": "https://localhost:8080/"
        },
        "id": "-ApSLbcQze5U",
        "outputId": "09228919-0cf6-4e3d-e153-27e5533f178b"
      },
      "outputs": [
        {
          "output_type": "stream",
          "name": "stdout",
          "text": [
            "Number of files in the folder: 11\n"
          ]
        }
      ],
      "source": [
        "#####Pour val parapsi\n",
        "folder_path = \"/content/dataset_myco_neg_output1/val/C.parapsilosis\"\n",
        "num_files = count_files(folder_path)\n",
        "print(\"Number of files in the folder:\", num_files)"
      ]
    },
    {
      "cell_type": "markdown",
      "source": [
        "***Data augmentation***"
      ],
      "metadata": {
        "id": "C2N0RCsMD-MD"
      }
    },
    {
      "cell_type": "code",
      "execution_count": null,
      "metadata": {
        "colab": {
          "base_uri": "https://localhost:8080/"
        },
        "id": "lx58BDyhnZpd",
        "outputId": "cfc540c8-ccaa-4739-e150-c796759986ad"
      },
      "outputs": [
        {
          "output_type": "stream",
          "name": "stdout",
          "text": [
            "Found 197 images belonging to 3 classes.\n",
            "Found 50 images belonging to 3 classes.\n"
          ]
        }
      ],
      "source": [
        "from keras.preprocessing.image import ImageDataGenerator\n",
        "\n",
        "train_data_dir = '/content/dataset_myco_neg_output1/train'\n",
        "validation_data_dir = '/content/dataset_myco_neg_output1/val'\n",
        "\n",
        "train_datagen = ImageDataGenerator(\n",
        "    rescale=1./255,\n",
        "    rotation_range=20,\n",
        "    width_shift_range=0.2,\n",
        "    height_shift_range=0.2,\n",
        "    shear_range=0.2,\n",
        "    horizontal_flip=True,\n",
        "    fill_mode='nearest')\n",
        "\n",
        "train_generator = train_datagen.flow_from_directory(\n",
        "    train_data_dir,\n",
        "    target_size=(299, 299),\n",
        "    batch_size=32,\n",
        "    class_mode='categorical')\n",
        "\n",
        "validation_datagen = ImageDataGenerator(rescale=1./255)\n",
        "validation_generator = validation_datagen.flow_from_directory(\n",
        "    validation_data_dir,\n",
        "    target_size=(299, 299),\n",
        "    batch_size=32,\n",
        "    class_mode='categorical')"
      ]
    },
    {
      "cell_type": "markdown",
      "source": [
        "Entrînement de l'InceptionV3"
      ],
      "metadata": {
        "id": "29cMwQH4EQ-C"
      }
    },
    {
      "cell_type": "code",
      "execution_count": null,
      "metadata": {
        "colab": {
          "base_uri": "https://localhost:8080/"
        },
        "id": "6w1ouQq-p4z_",
        "outputId": "991f480a-abe5-4eaf-e2fc-6d07334fa6ff"
      },
      "outputs": [
        {
          "output_type": "stream",
          "name": "stdout",
          "text": [
            "Downloading data from https://storage.googleapis.com/tensorflow/keras-applications/inception_v3/inception_v3_weights_tf_dim_ordering_tf_kernels_notop.h5\n",
            "87910968/87910968 [==============================] - 4s 0us/step\n",
            "Epoch 1/13\n",
            "7/7 [==============================] - 82s 11s/step - loss: 2.6865 - accuracy: 0.4264 - val_loss: 2.4696 - val_accuracy: 0.5200\n",
            "Epoch 2/13\n",
            "7/7 [==============================] - 71s 10s/step - loss: 1.3066 - accuracy: 0.5838 - val_loss: 0.8964 - val_accuracy: 0.5200\n",
            "Epoch 3/13\n",
            "7/7 [==============================] - 77s 11s/step - loss: 0.7392 - accuracy: 0.6396 - val_loss: 0.8098 - val_accuracy: 0.6200\n",
            "Epoch 4/13\n",
            "7/7 [==============================] - 77s 10s/step - loss: 0.5628 - accuracy: 0.7716 - val_loss: 0.6964 - val_accuracy: 0.7200\n",
            "Epoch 5/13\n",
            "7/7 [==============================] - 81s 11s/step - loss: 0.5462 - accuracy: 0.7766 - val_loss: 0.6255 - val_accuracy: 0.7000\n",
            "Epoch 6/13\n",
            "7/7 [==============================] - 81s 11s/step - loss: 0.4272 - accuracy: 0.8223 - val_loss: 0.6947 - val_accuracy: 0.7000\n",
            "Epoch 7/13\n",
            "7/7 [==============================] - 78s 11s/step - loss: 0.4245 - accuracy: 0.8274 - val_loss: 0.6169 - val_accuracy: 0.6800\n",
            "Epoch 8/13\n",
            "7/7 [==============================] - 72s 10s/step - loss: 0.3879 - accuracy: 0.8680 - val_loss: 0.5916 - val_accuracy: 0.8000\n",
            "Epoch 9/13\n",
            "7/7 [==============================] - 81s 11s/step - loss: 0.3151 - accuracy: 0.9036 - val_loss: 0.5407 - val_accuracy: 0.7400\n",
            "Epoch 10/13\n",
            "7/7 [==============================] - 82s 11s/step - loss: 0.3349 - accuracy: 0.8832 - val_loss: 0.5790 - val_accuracy: 0.7800\n",
            "Epoch 11/13\n",
            "7/7 [==============================] - 86s 12s/step - loss: 0.3214 - accuracy: 0.8883 - val_loss: 0.5382 - val_accuracy: 0.7800\n",
            "Epoch 12/13\n",
            "7/7 [==============================] - 75s 10s/step - loss: 0.2895 - accuracy: 0.9137 - val_loss: 0.4563 - val_accuracy: 0.8000\n",
            "Epoch 13/13\n",
            "7/7 [==============================] - 72s 10s/step - loss: 0.2347 - accuracy: 0.9442 - val_loss: 0.4638 - val_accuracy: 0.7800\n",
            "Found 197 images belonging to 3 classes.\n",
            "20/20 [==============================] - 56s 3s/step - loss: 0.4118 - accuracy: 0.8223\n",
            "Test Loss: 0.41179168224334717\n",
            "Test Accuracy: 0.8223350048065186\n"
          ]
        }
      ],
      "source": [
        "from keras.applications import InceptionV3\n",
        "from keras.models import Model\n",
        "from keras.layers import Dense, GlobalAveragePooling2D\n",
        "from keras.optimizers import SGD\n",
        "from keras.preprocessing.image import ImageDataGenerator\n",
        "\n",
        "base_model = InceptionV3(weights='imagenet', include_top=False)\n",
        "\n",
        "x = base_model.output\n",
        "x = GlobalAveragePooling2D()(x)\n",
        "x = Dense(1024, activation='relu')(x)\n",
        "predictions = Dense(3, activation='softmax')(x)\n",
        "\n",
        "model = Model(inputs=base_model.input, outputs=predictions)\n",
        "\n",
        "for layer in base_model.layers:\n",
        "    layer.trainable = False\n",
        "\n",
        "model.compile(optimizer='adam', loss='categorical_crossentropy', metrics=['accuracy'])\n",
        "\n",
        "\n",
        "\n",
        "history = model.fit(\n",
        "    train_generator,\n",
        "    steps_per_epoch=len(train_generator),\n",
        "    epochs=13,\n",
        "    validation_data=validation_generator,\n",
        "    validation_steps=len(validation_generator))\n",
        "\n",
        "test_datagen = ImageDataGenerator(rescale=1./255)\n",
        "test_generator = test_datagen.flow_from_directory(\n",
        "    '/content/dataset_myco/test',\n",
        "    target_size=(299, 299),\n",
        "    batch_size=10,\n",
        "    class_mode='categorical')\n",
        "\n",
        "test_loss, test_accuracy = model.evaluate(test_generator)\n",
        "print(f'Test Loss: {test_loss}')\n",
        "print(f'Test Accuracy: {test_accuracy}')\n"
      ]
    },
    {
      "cell_type": "markdown",
      "source": [
        "**Sauvegarde du modèle**"
      ],
      "metadata": {
        "id": "NlCAzoksEaok"
      }
    },
    {
      "cell_type": "code",
      "execution_count": null,
      "metadata": {
        "colab": {
          "base_uri": "https://localhost:8080/"
        },
        "id": "d8JJivGSmUYV",
        "outputId": "85d26776-7efa-46f9-f191-59aaffb20ac7"
      },
      "outputs": [
        {
          "output_type": "stream",
          "name": "stderr",
          "text": [
            "/usr/local/lib/python3.10/dist-packages/keras/src/engine/training.py:3103: UserWarning: You are saving your model as an HDF5 file via `model.save()`. This file format is considered legacy. We recommend using instead the native Keras format, e.g. `model.save('my_model.keras')`.\n",
            "  saving_api.save_model(\n"
          ]
        },
        {
          "output_type": "stream",
          "name": "stdout",
          "text": [
            "Model saved at: /content/yeast_species_classifier_x40_x1.h5\n"
          ]
        }
      ],
      "source": [
        "model_path = '/content/yeast_species_classifier_x40_x1.h5'\n",
        "\n",
        "model.save(model_path)\n",
        "\n",
        "print(f\"Model saved at: {model_path}\")"
      ]
    },
    {
      "cell_type": "markdown",
      "source": [
        "**Métriques sur le jeu de données test**"
      ],
      "metadata": {
        "id": "xHxwvpfMEjaT"
      }
    },
    {
      "cell_type": "code",
      "execution_count": null,
      "metadata": {
        "colab": {
          "base_uri": "https://localhost:8080/"
        },
        "id": "Eab-lCEiP93t",
        "outputId": "a713968c-9922-443f-a4f2-0d6f3a88ed42"
      },
      "outputs": [
        {
          "output_type": "stream",
          "name": "stdout",
          "text": [
            "Found 124 images belonging to 4 classes.\n",
            "7/7 [==============================] - 45s 6s/step\n",
            "Classification Report:\n",
            "                 precision    recall  f1-score   support\n",
            "\n",
            "    C.albicans       0.15      0.06      0.09        31\n",
            "    C.glabrata       0.83      0.87      0.85        60\n",
            "C.parapsilosis       0.29      0.70      0.41        20\n",
            "       Negatif       0.00      0.00      0.00        13\n",
            "\n",
            "      accuracy                           0.55       124\n",
            "     macro avg       0.32      0.41      0.34       124\n",
            "  weighted avg       0.48      0.55      0.50       124\n",
            "\n",
            "Confusion Matrix:\n",
            " [[ 2  3 26  0]\n",
            " [ 0 52  8  0]\n",
            " [ 0  6 14  0]\n",
            " [11  2  0  0]]\n",
            "Precision: [0.15384615 0.82539683 0.29166667        nan]\n",
            "Recall: [0.06451613 0.86666667 0.7        0.        ]\n",
            "F1 Score: [0.09090909 0.84552846 0.41176471        nan]\n"
          ]
        },
        {
          "output_type": "stream",
          "name": "stderr",
          "text": [
            "/usr/local/lib/python3.10/dist-packages/sklearn/metrics/_classification.py:1344: UndefinedMetricWarning: Precision and F-score are ill-defined and being set to 0.0 in labels with no predicted samples. Use `zero_division` parameter to control this behavior.\n",
            "  _warn_prf(average, modifier, msg_start, len(result))\n",
            "/usr/local/lib/python3.10/dist-packages/sklearn/metrics/_classification.py:1344: UndefinedMetricWarning: Precision and F-score are ill-defined and being set to 0.0 in labels with no predicted samples. Use `zero_division` parameter to control this behavior.\n",
            "  _warn_prf(average, modifier, msg_start, len(result))\n",
            "/usr/local/lib/python3.10/dist-packages/sklearn/metrics/_classification.py:1344: UndefinedMetricWarning: Precision and F-score are ill-defined and being set to 0.0 in labels with no predicted samples. Use `zero_division` parameter to control this behavior.\n",
            "  _warn_prf(average, modifier, msg_start, len(result))\n",
            "<ipython-input-21-96410fdf5d15>:36: RuntimeWarning: invalid value encountered in divide\n",
            "  precision = np.diag(conf_matrix) / np.sum(conf_matrix, axis=0)\n"
          ]
        }
      ],
      "source": [
        "from sklearn.metrics import classification_report, confusion_matrix\n",
        "import numpy as np\n",
        "\n",
        "test_datagen = ImageDataGenerator(rescale=1./255)\n",
        "test_generator = test_datagen.flow_from_directory(\n",
        "    '/content/test_x40_x1',\n",
        "    target_size=(299, 299),\n",
        "    batch_size=20,\n",
        "    class_mode='categorical',\n",
        "    shuffle=False)\n",
        "\n",
        "\n",
        "model= tf.keras.models.load_model('/content/yeast_species_classifier_x40_x1.h5')\n",
        "\n",
        "predictions = model.predict(test_generator)\n",
        "\n",
        "predicted_classes = np.argmax(predictions, axis=1)\n",
        "\n",
        "true_classes = test_generator.classes\n",
        "\n",
        "class_labels = list(test_generator.class_indices.keys())\n",
        "\n",
        "report = classification_report(true_classes, predicted_classes, target_names=class_labels)\n",
        "print(\"Classification Report:\\n\", report)\n",
        "\n",
        "conf_matrix = confusion_matrix(true_classes, predicted_classes)\n",
        "print(\"Confusion Matrix:\\n\", conf_matrix)\n",
        "\n",
        "precision = np.diag(conf_matrix) / np.sum(conf_matrix, axis=0)\n",
        "recall = np.diag(conf_matrix) / np.sum(conf_matrix, axis=1)\n",
        "f1_score = 2 * (precision * recall) / (precision + recall)\n",
        "\n",
        "print(\"Precision:\", precision)\n",
        "print(\"Recall:\", recall)\n",
        "print(\"F1 Score:\", f1_score)"
      ]
    },
    {
      "cell_type": "markdown",
      "source": [
        "**Prédiction sur une image**"
      ],
      "metadata": {
        "id": "4nOh7WPLFTmK"
      }
    },
    {
      "cell_type": "code",
      "execution_count": null,
      "metadata": {
        "id": "-Tj1E7uLIQD-"
      },
      "outputs": [],
      "source": [
        "import numpy as np\n",
        "from keras.models import load_model\n",
        "from keras.preprocessing import image\n",
        "\n",
        "model = load_model('/content/yeast_species_classifier_x40_x1.h5')\n",
        "\n",
        "img_path = '/content/IMG_4527.jpg'\n",
        "\n",
        "class_labels = ['C.albicans', 'C.glabrata', 'C.parapsilosis', 'Negatif']\n",
        "\n",
        "img = image.load_img(img_path, target_size=(299, 299))\n",
        "img_array = image.img_to_array(img)\n",
        "img_array = np.expand_dims(img_array, axis=0)\n",
        "img_array = img_array / 255.0\n",
        "\n",
        "prediction = model.predict(img_array)\n",
        "\n",
        "predicted_class_index = np.argmax(prediction)\n",
        "\n",
        "actual_class_label = class_labels[predicted_class_index]\n",
        "\n",
        "confidence_score = np.max(prediction)\n",
        "\n",
        "print(\"Prediction:\")\n",
        "print(f\"Class: {actual_class_label}\")\n",
        "print(f\"Confidence Score: {confidence_score}\")\n",
        "print(f\"Class Probabilities: {prediction}\")\n"
      ]
    }
  ],
  "metadata": {
    "colab": {
      "provenance": []
    },
    "kernelspec": {
      "display_name": "Python 3",
      "name": "python3"
    },
    "language_info": {
      "name": "python"
    }
  },
  "nbformat": 4,
  "nbformat_minor": 0
}