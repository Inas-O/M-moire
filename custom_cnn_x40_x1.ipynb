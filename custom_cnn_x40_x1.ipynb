{
  "nbformat": 4,
  "nbformat_minor": 0,
  "metadata": {
    "colab": {
      "provenance": []
    },
    "kernelspec": {
      "name": "python3",
      "display_name": "Python 3"
    },
    "language_info": {
      "name": "python"
    }
  },
  "cells": [
    {
      "cell_type": "markdown",
      "source": [
        "**Importation des packages necessaires**"
      ],
      "metadata": {
        "id": "caRYoOWV41yO"
      }
    },
    {
      "cell_type": "code",
      "execution_count": null,
      "metadata": {
        "id": "DtFWupGCg7-m"
      },
      "outputs": [],
      "source": [
        "import tensorflow as tf\n",
        "from tensorflow.keras.preprocessing.image import ImageDataGenerator"
      ]
    },
    {
      "cell_type": "markdown",
      "source": [
        "**Connection a Google drive**"
      ],
      "metadata": {
        "id": "5QrbkO9r5QG7"
      }
    },
    {
      "cell_type": "code",
      "source": [
        "from google.colab import drive\n",
        "drive.mount('/content/drive')"
      ],
      "metadata": {
        "colab": {
          "base_uri": "https://localhost:8080/"
        },
        "id": "DHhwQ9gphPEt",
        "outputId": "9e53ec2f-38ca-43e7-c1a5-36cda28dff47"
      },
      "execution_count": null,
      "outputs": [
        {
          "output_type": "stream",
          "name": "stdout",
          "text": [
            "Mounted at /content/drive\n"
          ]
        }
      ]
    },
    {
      "cell_type": "markdown",
      "source": [
        "**Copie de la base de donnée dans l'environnement Colab**"
      ],
      "metadata": {
        "id": "eRKh75Xf5byc"
      }
    },
    {
      "cell_type": "code",
      "source": [
        "import shutil\n",
        "\n",
        "def copy_folder(source_folder, destination_folder):\n",
        "    try:\n",
        "        shutil.copytree(source_folder, destination_folder)\n",
        "        print(f\"Folder '{source_folder}' successfully copied to '{destination_folder}'.\")\n",
        "    except Exception as e:\n",
        "        print(f\"An error occurred: {e}\")\n",
        "\n",
        "source_folder_path = '/content/drive/MyDrive/dataset_myco_neg_x40_x1'\n",
        "destination_folder_path = '/content/dataset_myco_neg_x40_x1'\n",
        "\n",
        "copy_folder(source_folder_path, destination_folder_path)"
      ],
      "metadata": {
        "colab": {
          "base_uri": "https://localhost:8080/"
        },
        "id": "Uh9ShBG8hUgR",
        "outputId": "6183178c-cc8e-49e8-b00a-1e17f9287a44"
      },
      "execution_count": null,
      "outputs": [
        {
          "output_type": "stream",
          "name": "stdout",
          "text": [
            "Folder '/content/drive/MyDrive/dataset_myco_neg_x40_x1' successfully copied to '/content/dataset_myco_neg_x40_x1'.\n"
          ]
        }
      ]
    },
    {
      "cell_type": "markdown",
      "source": [
        "**Extrait les images des sous-dossiers pour les mettre dans le dossier de leur classe**"
      ],
      "metadata": {
        "id": "pGVZGLuh58_S"
      }
    },
    {
      "cell_type": "markdown",
      "source": [
        "Pour Candida parapsilosis"
      ],
      "metadata": {
        "id": "33BMV59x7VB_"
      }
    },
    {
      "cell_type": "code",
      "source": [
        "import os\n",
        "import shutil\n",
        "\n",
        "source_folder = \"/content/dataset_myco_neg_x40_x1/C.parapsilosis\"\n",
        "\n",
        "destination_folder = \"/content/dataset_myco_neg1/C.parapsilosis\"\n",
        "\n",
        "os.makedirs(destination_folder, exist_ok=True)\n",
        "\n",
        "for root, _, files in os.walk(source_folder):\n",
        "    for file_name in files:\n",
        "        if file_name.endswith(('.jpg', '.jpeg', '.png', '.gif')):\n",
        "            source_path = os.path.join(root, file_name)\n",
        "            destination_path = os.path.join(destination_folder, file_name)\n",
        "            shutil.copy2(source_path, destination_path)\n",
        "\n",
        "print(\"Images extracted from source subfolders to destination folder.\")"
      ],
      "metadata": {
        "colab": {
          "base_uri": "https://localhost:8080/"
        },
        "id": "fyQzjw8mhhbN",
        "outputId": "8c74704a-9345-4a91-c2a5-910dbdd24ad5"
      },
      "execution_count": null,
      "outputs": [
        {
          "output_type": "stream",
          "name": "stdout",
          "text": [
            "Images extracted from source subfolders to destination folder.\n"
          ]
        }
      ]
    },
    {
      "cell_type": "markdown",
      "source": [
        "Pour Candida albicans"
      ],
      "metadata": {
        "id": "WVVW1fVI7X4p"
      }
    },
    {
      "cell_type": "code",
      "source": [
        "import os\n",
        "import shutil\n",
        "\n",
        "source_folder = \"/content/dataset_myco_neg_x40_x1/C.albicans\"\n",
        "\n",
        "destination_folder = \"/content/dataset_myco_neg1/C.albicans\"\n",
        "\n",
        "os.makedirs(destination_folder, exist_ok=True)\n",
        "\n",
        "for root, _, files in os.walk(source_folder):\n",
        "    for file_name in files:\n",
        "        if file_name.endswith(('.jpg', '.jpeg', '.png', '.gif')):\n",
        "            source_path = os.path.join(root, file_name)\n",
        "            destination_path = os.path.join(destination_folder, file_name)\n",
        "            shutil.copy2(source_path, destination_path)\n",
        "\n",
        "print(\"Images extracted from source subfolders to destination folder.\")"
      ],
      "metadata": {
        "id": "veLUJobU6z3E"
      },
      "execution_count": null,
      "outputs": []
    },
    {
      "cell_type": "markdown",
      "source": [
        "Pour Candida glabrata"
      ],
      "metadata": {
        "id": "C_4Gq3uU7cIp"
      }
    },
    {
      "cell_type": "code",
      "source": [
        "import os\n",
        "import shutil\n",
        "\n",
        "source_folder = \"/content/dataset_myco_neg_x40_x1/C.glabrata\"\n",
        "\n",
        "destination_folder = \"/content/dataset_myco_neg1/C.glabrata\"\n",
        "\n",
        "os.makedirs(destination_folder, exist_ok=True)\n",
        "\n",
        "for root, _, files in os.walk(source_folder):\n",
        "    for file_name in files:\n",
        "        if file_name.endswith(('.jpg', '.jpeg', '.png', '.gif')):\n",
        "            source_path = os.path.join(root, file_name)\n",
        "            destination_path = os.path.join(destination_folder, file_name)\n",
        "            shutil.copy2(source_path, destination_path)\n",
        "\n",
        "print(\"Images extracted from source subfolders to destination folder.\")"
      ],
      "metadata": {
        "id": "pEPHTwi-66d_"
      },
      "execution_count": null,
      "outputs": []
    },
    {
      "cell_type": "markdown",
      "source": [
        "Pour les negatifs"
      ],
      "metadata": {
        "id": "wOgqahgN7fwH"
      }
    },
    {
      "cell_type": "code",
      "source": [
        "import os\n",
        "import shutil\n",
        "\n",
        "source_folder = \"/content/dataset_myco_neg_x40_x1/Negatif\"\n",
        "\n",
        "destination_folder = \"/content/dataset_myco_neg1/Negatif\"\n",
        "\n",
        "os.makedirs(destination_folder, exist_ok=True)\n",
        "\n",
        "for root, _, files in os.walk(source_folder):\n",
        "    for file_name in files:\n",
        "        if file_name.endswith(('.jpg', '.jpeg', '.png', '.gif')):\n",
        "            source_path = os.path.join(root, file_name)\n",
        "            destination_path = os.path.join(destination_folder, file_name)\n",
        "            shutil.copy2(source_path, destination_path)\n",
        "\n",
        "print(\"Images extracted from source subfolders to destination folder.\")"
      ],
      "metadata": {
        "id": "LcUyQ2Ak7KjX"
      },
      "execution_count": null,
      "outputs": []
    },
    {
      "cell_type": "markdown",
      "source": [
        "**Split en données d'entraînement et validation**"
      ],
      "metadata": {
        "id": "8JzBlo_X7nOq"
      }
    },
    {
      "cell_type": "code",
      "source": [
        "!pip install split-folders\n",
        "import splitfolders\n",
        "input_folder = \"/content/dataset_myco_neg1\"\n",
        "output_folder = \"/content/dataset_myco_neg_output1\"\n",
        "train_folder = os.path.join(output_folder, \"train\")\n",
        "val_folder = os.path.join(output_folder, \"val\")\n",
        "\n",
        "splitfolders.ratio(input_folder, output=output_folder, seed=42, ratio=(0.8, 0.2))"
      ],
      "metadata": {
        "colab": {
          "base_uri": "https://localhost:8080/"
        },
        "id": "OD1WTPR2hiBu",
        "outputId": "a71613fe-235f-4be5-88b4-23d167c18d2b"
      },
      "execution_count": null,
      "outputs": [
        {
          "output_type": "stream",
          "name": "stdout",
          "text": [
            "Collecting split-folders\n",
            "  Downloading split_folders-0.5.1-py3-none-any.whl (8.4 kB)\n",
            "Installing collected packages: split-folders\n",
            "Successfully installed split-folders-0.5.1\n"
          ]
        },
        {
          "output_type": "stream",
          "name": "stderr",
          "text": [
            "Copying files: 53 files [00:00, 1120.52 files/s]\n"
          ]
        }
      ]
    },
    {
      "cell_type": "markdown",
      "source": [
        "***Data augmentation***"
      ],
      "metadata": {
        "id": "sCoZyp3y8DDJ"
      }
    },
    {
      "cell_type": "code",
      "source": [
        "train_dir = '/content/dataset_myco_neg_output1/train'\n",
        "val_dir = '/content/dataset_myco_neg_output1/val'\n",
        "\n",
        "train_datagen = ImageDataGenerator(rescale=1./255)\n",
        "val_datagen = ImageDataGenerator(rescale=1./255)\n",
        "\n",
        "train_generator = train_datagen.flow_from_directory(\n",
        "    train_dir,\n",
        "    target_size=(224, 224),\n",
        "    batch_size=10,\n",
        "    class_mode='categorical'\n",
        ")\n",
        "\n",
        "val_generator = val_datagen.flow_from_directory(\n",
        "    val_dir,\n",
        "    target_size=(224, 224),\n",
        "    batch_size=10,\n",
        "    class_mode='categorical'\n",
        ")\n",
        "\n"
      ],
      "metadata": {
        "colab": {
          "base_uri": "https://localhost:8080/"
        },
        "id": "OzS3V9H0hGA2",
        "outputId": "92d45835-d9ca-4d6f-aa75-c22348995017"
      },
      "execution_count": null,
      "outputs": [
        {
          "output_type": "stream",
          "name": "stdout",
          "text": [
            "Found 42 images belonging to 1 classes.\n",
            "Found 11 images belonging to 1 classes.\n"
          ]
        },
        {
          "output_type": "stream",
          "name": "stderr",
          "text": [
            "<ipython-input-6-eaf9e2a15ee2>:41: UserWarning: `Model.fit_generator` is deprecated and will be removed in a future version. Please use `Model.fit`, which supports generators.\n",
            "  model.fit_generator(\n"
          ]
        },
        {
          "output_type": "stream",
          "name": "stdout",
          "text": [
            "Epoch 1/13\n",
            "2/2 [==============================] - 13s 5s/step - loss: 7.4511 - accuracy: 0.0000e+00 - val_loss: 28.2878 - val_accuracy: 0.0000e+00\n",
            "Epoch 2/13\n",
            "2/2 [==============================] - 7s 4s/step - loss: 53.3558 - accuracy: 0.7619 - val_loss: 98.7745 - val_accuracy: 0.0000e+00\n",
            "Epoch 3/13\n",
            "2/2 [==============================] - 6s 4s/step - loss: 145.8399 - accuracy: 0.0000e+00 - val_loss: 221.6329 - val_accuracy: 0.0000e+00\n",
            "Epoch 4/13\n",
            "2/2 [==============================] - 8s 6s/step - loss: 360.6996 - accuracy: 0.7619 - val_loss: 541.6760 - val_accuracy: 0.0000e+00\n",
            "Epoch 5/13\n",
            "2/2 [==============================] - 6s 4s/step - loss: 765.1462 - accuracy: 0.0000e+00 - val_loss: 1218.0815 - val_accuracy: 1.0000\n",
            "Epoch 6/13\n",
            "2/2 [==============================] - 7s 3s/step - loss: 1362.6140 - accuracy: 0.7619 - val_loss: 2419.2202 - val_accuracy: 0.0000e+00\n",
            "Epoch 7/13\n",
            "2/2 [==============================] - 6s 4s/step - loss: 3023.3535 - accuracy: 0.0000e+00 - val_loss: 4529.7095 - val_accuracy: 1.0000\n",
            "Epoch 8/13\n",
            "2/2 [==============================] - 6s 4s/step - loss: 5572.0776 - accuracy: 1.0000 - val_loss: 7531.5171 - val_accuracy: 0.0000e+00\n",
            "Epoch 9/13\n",
            "2/2 [==============================] - 8s 5s/step - loss: 9837.5879 - accuracy: 0.0000e+00 - val_loss: 12865.6133 - val_accuracy: 0.0000e+00\n",
            "Epoch 10/13\n",
            "2/2 [==============================] - 6s 2s/step - loss: 13989.6045 - accuracy: 0.0000e+00 - val_loss: 18084.6230 - val_accuracy: 0.0000e+00\n",
            "Epoch 11/13\n",
            "2/2 [==============================] - 8s 3s/step - loss: 20356.4102 - accuracy: 0.2381 - val_loss: 30462.6133 - val_accuracy: 1.0000\n",
            "Epoch 12/13\n",
            "2/2 [==============================] - 6s 2s/step - loss: 32834.7188 - accuracy: 1.0000 - val_loss: 43542.9414 - val_accuracy: 0.0000e+00\n",
            "Epoch 13/13\n",
            "2/2 [==============================] - 8s 3s/step - loss: 48527.6797 - accuracy: 0.0000e+00 - val_loss: 67946.8828 - val_accuracy: 0.0000e+00\n"
          ]
        },
        {
          "output_type": "stream",
          "name": "stderr",
          "text": [
            "<ipython-input-6-eaf9e2a15ee2>:50: UserWarning: `Model.evaluate_generator` is deprecated and will be removed in a future version. Please use `Model.evaluate`, which supports generators.\n",
            "  loss, accuracy = model.evaluate_generator(test_generator, steps=len(test_generator))\n"
          ]
        },
        {
          "output_type": "stream",
          "name": "stdout",
          "text": [
            "Test Loss: 67946.890625\n",
            "Test Accuracy: 0.0\n"
          ]
        },
        {
          "output_type": "stream",
          "name": "stderr",
          "text": [
            "/usr/local/lib/python3.10/dist-packages/keras/src/engine/training.py:3103: UserWarning: You are saving your model as an HDF5 file via `model.save()`. This file format is considered legacy. We recommend using instead the native Keras format, e.g. `model.save('my_model.keras')`.\n",
            "  saving_api.save_model(\n"
          ]
        }
      ]
    },
    {
      "cell_type": "markdown",
      "source": [
        "**Entrainement et sauvergarde du modèle**"
      ],
      "metadata": {
        "id": "BicQSu5X8wXy"
      }
    },
    {
      "cell_type": "code",
      "source": [
        "model = tf.keras.models.Sequential([\n",
        "    tf.keras.layers.Conv2D(32, (3, 3), activation='relu', input_shape=(224, 224, 3)),\n",
        "    tf.keras.layers.MaxPooling2D((2, 2)),\n",
        "    tf.keras.layers.Conv2D(64, (3, 3), activation='relu'),\n",
        "    tf.keras.layers.MaxPooling2D((2, 2)),\n",
        "    tf.keras.layers.Conv2D(128, (3, 3), activation='relu'),\n",
        "    tf.keras.layers.MaxPooling2D((2, 2)),\n",
        "    tf.keras.layers.Flatten(),\n",
        "    tf.keras.layers.Dense(128, activation='relu'),\n",
        "    tf.keras.layers.Dense(4, activation='softmax')\n",
        "])\n",
        "\n",
        "model.compile(optimizer='adam',\n",
        "              loss='categorical_crossentropy',\n",
        "              metrics=['accuracy'])\n",
        "\n",
        "model.fit_generator(\n",
        "    train_generator,\n",
        "    steps_per_epoch=len(train_generator),\n",
        "    epochs=13,\n",
        "    validation_data=val_generator,\n",
        "    validation_steps=len(val_generator)\n",
        ")\n",
        "\n",
        "loss, accuracy = model.evaluate_generator(val_generator, steps=len(val_generator))\n",
        "print(\"val Loss:\", loss)\n",
        "print(\"val Accuracy:\", accuracy)\n",
        "\n",
        "model.save('model_path = '/content/custom_yeast_species_classifier_x40_x1.h5'\n",
        "\n",
        "model.save(model_path)\n",
        "\n",
        "print(f\"Model saved at: {model_path}\")')"
      ],
      "metadata": {
        "id": "sa6xRh288uEt"
      },
      "execution_count": null,
      "outputs": []
    },
    {
      "cell_type": "code",
      "source": [
        "from sklearn.metrics import classification_report, confusion_matrix\n",
        "import numpy as np\n",
        "\n",
        "test_datagen = ImageDataGenerator(rescale=1./255)\n",
        "test_generator = test_datagen.flow_from_directory(\n",
        "    '/content/test_x40_x1',\n",
        "    target_size=(224, 224),\n",
        "    batch_size=10,\n",
        "    class_mode='categorical',\n",
        "    shuffle=False)\n",
        "\n",
        "model= tf.keras.models.load_model('/content/custom_yeast_species_classifier_x40_x1.h5')\n",
        "predictions = model.predict(test_generator)\n",
        "\n",
        "predicted_classes = np.argmax(predictions, axis=1)\n",
        "\n",
        "true_classes = test_generator.classes\n",
        "\n",
        "class_labels = list(test_generator.class_indices.keys())\n",
        "\n",
        "report = classification_report(true_classes, predicted_classes, target_names=class_labels)\n",
        "print(\"Classification Report:\\n\", report)\n",
        "\n",
        "conf_matrix = confusion_matrix(true_classes, predicted_classes)\n",
        "print(\"Confusion Matrix:\\n\", conf_matrix)\n",
        "\n",
        "precision = np.diag(conf_matrix) / np.sum(conf_matrix, axis=0)\n",
        "recall = np.diag(conf_matrix) / np.sum(conf_matrix, axis=1)\n",
        "f1_score = 2 * (precision * recall) / (precision + recall)\n",
        "\n",
        "print(\"Precision:\", precision)\n",
        "print(\"Recall:\", recall)\n",
        "print(\"F1 Score:\", f1_score)"
      ],
      "metadata": {
        "id": "ahK9RODn9Qim"
      },
      "execution_count": null,
      "outputs": []
    }
  ]
}